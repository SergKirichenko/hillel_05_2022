{
 "cells": [
  {
   "cell_type": "code",
   "execution_count": 2,
   "id": "be1d6ade",
   "metadata": {},
   "outputs": [
    {
     "name": "stdout",
     "output_type": "stream",
     "text": [
      "<module 'sys' (built-in)>\n"
     ]
    }
   ],
   "source": [
    "import sys\n",
    "\n",
    "print(sys)"
   ]
  },
  {
   "cell_type": "code",
   "execution_count": 6,
   "id": "9696e4ec",
   "metadata": {},
   "outputs": [
    {
     "name": "stdout",
     "output_type": "stream",
     "text": [
      "Hello\n",
      "Hello world\n",
      "Hello world\n"
     ]
    }
   ],
   "source": [
    "\n",
    "bar = \"Hello\"\n",
    "\n",
    "\n",
    "def foo(a: int, b: int):\n",
    "    global bar\n",
    "    c = a + b\n",
    "    bar += \" world\"\n",
    "    print(bar)\n",
    "    return c\n",
    "\n",
    "print(bar)\n",
    "\n",
    "foo(10 ,20)\n",
    "\n",
    "print(bar)"
   ]
  },
  {
   "cell_type": "code",
   "execution_count": 7,
   "id": "dbdd332a",
   "metadata": {},
   "outputs": [
    {
     "name": "stdout",
     "output_type": "stream",
     "text": [
      "900\n"
     ]
    }
   ],
   "source": [
    "def square(func):\n",
    "    bar = 2\n",
    "    def inner(*args, **kwargs):\n",
    "        result = func(*args, **kwargs)\n",
    "        bar = 2\n",
    "        return result ** bar\n",
    "    return inner\n",
    "\n",
    "@square\n",
    "def add(a, b):\n",
    "    return a + b\n",
    "\n",
    "print(add(10, 20))"
   ]
  },
  {
   "cell_type": "code",
   "execution_count": 9,
   "id": "82cd7e31",
   "metadata": {},
   "outputs": [
    {
     "name": "stdout",
     "output_type": "stream",
     "text": [
      "30\n",
      "200\n"
     ]
    }
   ],
   "source": [
    "def foo(a, b):\n",
    "    r = a + b\n",
    "    \n",
    "    def change_r():\n",
    "        nonlocal r\n",
    "        r = 200\n",
    "        print(r)\n",
    "        \n",
    "    print(r)\n",
    "    return change_r\n",
    "\n",
    "new_func = foo(10, 20)\n",
    "new_func()"
   ]
  },
  {
   "cell_type": "code",
   "execution_count": 99,
   "id": "cd270035",
   "metadata": {},
   "outputs": [
    {
     "name": "stdout",
     "output_type": "stream",
     "text": [
      "I am in A\n"
     ]
    },
    {
     "data": {
      "text/plain": [
       "(__main__.D, __main__.B, __main__.C, __main__.H, __main__.A, object)"
      ]
     },
     "execution_count": 99,
     "metadata": {},
     "output_type": "execute_result"
    }
   ],
   "source": [
    "# A -> B -> C\n",
    "# MRO\n",
    "\n",
    "\n",
    "class A:\n",
    "    def foo(self):\n",
    "        print(\"I am in A\")\n",
    "        \n",
    "class B(A):\n",
    "    def foo(self):\n",
    "        print(\"I am in B\")\n",
    "        \n",
    "class C(A):\n",
    "    def foo(self):\n",
    "        print(\"I am in C\")\n",
    "        \n",
    "class H(A):\n",
    "    pass\n",
    "\n",
    "class D(B, C, H):\n",
    "    def foo(self):\n",
    "        super(C, self).foo()\n",
    "    \n",
    "D().foo()\n",
    "\n",
    "D.__mro__"
   ]
  }
 ],
 "metadata": {
  "interpreter": {
   "hash": "c1f0029caafff0cb7c53a660fedd7eaa18e718fa424a220e9d747b8fbccb31c3"
  },
  "kernelspec": {
   "display_name": "Python 3.8.10 64-bit",
   "language": "python",
   "name": "python3"
  },
  "language_info": {
   "codemirror_mode": {
    "name": "ipython",
    "version": 3
   },
   "file_extension": ".py",
   "mimetype": "text/x-python",
   "name": "python",
   "nbconvert_exporter": "python",
   "pygments_lexer": "ipython3",
   "version": "3.8.10"
  }
 },
 "nbformat": 4,
 "nbformat_minor": 5
}
